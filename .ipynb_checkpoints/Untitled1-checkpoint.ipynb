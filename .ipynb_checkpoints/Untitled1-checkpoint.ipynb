{
 "cells": [
  {
   "cell_type": "code",
   "execution_count": null,
   "metadata": {},
   "outputs": [],
   "source": [
    "import os \n",
    "import sys \n",
    "sys.path.insert(0,'Inputs/')\n",
    "import reader as rd "
   ]
  },
  {
   "cell_type": "code",
   "execution_count": 93,
   "metadata": {},
   "outputs": [
    {
     "name": "stdout",
     "output_type": "stream",
     "text": [
      "Reader instantiation\n"
     ]
    }
   ],
   "source": [
    "#Read a given instance \n",
    "instance_path ='Instances/Set_A/A_09.json'\n",
    "reader = rd.Reader()\n",
    "instance = reader.read_instance(instance_path)"
   ]
  },
  {
   "cell_type": "code",
   "execution_count": null,
   "metadata": {},
   "outputs": [],
   "source": [
    "instance.show_basic_details()\n",
    "print(instance.scenarios_number)"
   ]
  },
  {
   "cell_type": "code",
   "execution_count": 92,
   "metadata": {},
   "outputs": [],
   "source": [
    "############## Compute risk (s,t) for each pair of s and t ################################\n",
    "## we assume that all the interventions are activated at t = t and are launched on all t' leq to t    t\n",
    "def risk_s_t(instance,t,s):\n",
    "  risk_s_t = 0\n",
    "  for i in range(instance.interventions_number):\n",
    "    for t1 in range(t+1):\n",
    "      if t in instance.risk_s_i_t_t1[i] and t1 in instance.risk_s_i_t_t1[i][t]:\n",
    "        risk_s_t += instance.risk_s_i_t_t1[i][t][t1][s]\n",
    "\n",
    "  return risk_s_t\n",
    "\n",
    "############################ reduce scenarios method ####################################\n",
    "def reduce_scenarios(instance,tau):\n",
    "  for t in range(instance.horizon):\n",
    "   select_scenarios(instance,t,tau)\n",
    "  \n",
    "  return 0\n",
    "\n",
    "######################### select scenarios method #######################################\n",
    "def select_scenarios(instance,t,tau):\n",
    "    \n",
    "    #Compute risk (s,t)\n",
    "    risk_t_all_s = list()\n",
    "    for s in range(instance.scenarios_number[t]):\n",
    "      r_s_t = risk_s_t(instance,t,s)\n",
    "      risk_t_all_s.append([s,r_s_t])\n",
    "    \n",
    "    #Sort the list risk_t_all_s\n",
    "    risk_t_all_s = sorted(risk_t_all_s,key=lambda x:x[1],reverse = False)\n",
    "\n",
    "    #Get the scenario that corresponds to the quantile\n",
    "    if int(tau*instance.scenarios_number[t]) == tau*instance.scenarios_number[t]:\n",
    "      pos = tau*instance.scenarios_number[t] - 1\n",
    "    else:\n",
    "      pos = int(tau*instance.scenarios_number[t])\n",
    "    \n",
    "    #Update the input instance\n",
    "    for i in range(instance.interventions_number):\n",
    "       for t1 in range(t + 1):\n",
    "         if t in instance.risk_s_i_t_t1[i] and t1 in instance.risk_s_i_t_t1[i][t]:\n",
    "            instance.risk_s_i_t_t1[i][t][t1].insert(0,instance.risk_s_i_t_t1[i][t][t1][risk_t_all_s[pos][0]])\n",
    "            instance.risk_s_i_t_t1[i][t][t1] = instance.risk_s_i_t_t1[i][t][t1][:1]\n",
    "    \n",
    "    return 0     "
   ]
  },
  {
   "cell_type": "code",
   "execution_count": 94,
   "metadata": {},
   "outputs": [
    {
     "name": "stdout",
     "output_type": "stream",
     "text": [
      "[[0, 27186.960000000003], [2, 29064.40000000001], [5, 31217.250000000007], [4, 31808.809999999998], [1, 33698.19000000001], [3, 34923.53999999999]]\n",
      "5 [515.29, 566.04, 528.12, 564.9, 586.46, 557.98]\n",
      "5 [564.9]\n",
      " \n",
      "5 [9464.0, 12264.0, 11200.0, 12824.0, 10584.0, 10024.0]\n",
      "5 [12824.0]\n",
      " \n",
      "5 [155.27, 155.27, 155.27, 155.27, 155.27, 155.27]\n",
      "5 [155.27]\n",
      " \n",
      "5 [429.33, 435.87, 421.87, 444.27, 403.67, 410.67]\n",
      "5 [444.27]\n",
      " \n",
      "5 [156.01, 156.01, 156.01, 156.01, 156.01, 156.01]\n",
      "5 [156.01]\n",
      " \n",
      "5 [156.59, 156.59, 156.59, 156.59, 156.59, 156.59]\n",
      "5 [156.59]\n",
      " \n",
      "5 [275.62, 282.5, 285.5, 281.89, 301.92, 301.84]\n",
      "5 [281.89]\n",
      " \n",
      "5 [156.59, 156.59, 156.59, 156.59, 156.59, 156.59]\n",
      "5 [156.59]\n",
      " \n",
      "5 [1181.15, 2302.06, 1759.98, 4236.41, 2951.79, 1575.17]\n",
      "5 [4236.41]\n",
      " \n",
      "5 [902.26, 1009.77, 877.59, 985.71, 888.57, 904.96]\n",
      "5 [985.71]\n",
      " \n",
      "5 [154.26, 154.26, 154.26, 154.26, 154.26, 154.26]\n",
      "5 [154.26]\n",
      " \n",
      "5 [795.2, 795.2, 795.2, 795.2, 887.19, 795.2]\n",
      "5 [795.2]\n",
      " \n",
      "5 [156.43, 156.43, 156.43, 156.43, 156.43, 156.43]\n",
      "5 [156.43]\n",
      " \n",
      "5 [4897.98, 6078.79, 5408.33, 5888.66, 6088.8, 6639.17]\n",
      "5 [5888.66]\n",
      " \n",
      "5 [5615.21, 6837.04, 4628.06, 5782.01, 5877.32, 6769.31]\n",
      "5 [5782.01]\n",
      " \n",
      "5 [156.22, 156.22, 156.22, 156.22, 156.22, 156.22]\n",
      "5 [156.22]\n",
      " \n",
      "5 [1103.77, 1103.77, 1103.77, 1103.77, 1103.77, 1103.77]\n",
      "5 [1103.77]\n",
      " \n",
      "5 [915.78, 931.78, 964.61, 925.35, 1043.95, 1043.81]\n",
      "5 [925.35]\n",
      " \n"
     ]
    }
   ],
   "source": [
    "reduce_scenarios(instance,instance.tau)\n"
   ]
  },
  {
   "cell_type": "code",
   "execution_count": 102,
   "metadata": {},
   "outputs": [],
   "source": [
    "def reduce_scenarios_using_risk_s_t_i_t_t1(instance):\n",
    "\n",
    "    for i in range(1):\n",
    "      for t in range(1):\n",
    "        for t1 in range(t + 1):\n",
    "          if t in instance.risk_s_i_t_t1[i] and t1 in instance.risk_s_i_t_t1[i][t]:\n",
    "            min_ = min(instance.risk_s_i_t_t1[i][t][t1])\n",
    "            instance.risk_s_i_t_t1[i][t][t1].insert(0,min_)\n",
    "            print(\"before : \",instance.risk_s_i_t_t1[i][t][t1])\n",
    "            instance.risk_s_i_t_t1[i][t][t1] = instance.risk_s_i_t_t1[i][t][t1][:1]\n",
    "            print(instance.risk_s_i_t_t1[i][t][t1],min_)\n",
    "            print(\" \")\n",
    "            \n",
    "\n",
    "                 "
   ]
  },
  {
   "cell_type": "code",
   "execution_count": 103,
   "metadata": {},
   "outputs": [
    {
     "name": "stdout",
     "output_type": "stream",
     "text": [
      "Reader instantiation\n",
      "[515.29] 515.29\n"
     ]
    }
   ],
   "source": [
    "#Read a given instance \n",
    "instance_path ='Instances/Set_A/A_09.json'\n",
    "reader = rd.Reader()\n",
    "instance = reader.read_instance(instance_path)\n",
    "reduce_scenarios_using_risk_s_t_i_t_t1(instance)"
   ]
  },
  {
   "cell_type": "markdown",
   "metadata": {},
   "source": [
    "\n"
   ]
  }
 ],
 "metadata": {
  "kernelspec": {
   "display_name": "Python 3",
   "language": "python",
   "name": "python3"
  },
  "language_info": {
   "codemirror_mode": {
    "name": "ipython",
    "version": 3
   },
   "file_extension": ".py",
   "mimetype": "text/x-python",
   "name": "python",
   "nbconvert_exporter": "python",
   "pygments_lexer": "ipython3",
   "version": "3.5.2"
  }
 },
 "nbformat": 4,
 "nbformat_minor": 2
}
